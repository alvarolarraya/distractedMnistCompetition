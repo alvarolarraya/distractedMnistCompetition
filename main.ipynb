{
 "cells": [
  {
   "cell_type": "code",
   "execution_count": 286,
   "metadata": {},
   "outputs": [],
   "source": [
    "import os\n",
    "import glob\n",
    "from tqdm import tqdm\n",
    "import numpy as np # linear algebra\n",
    "import pandas as pd # data processing, CSV file I/O (e.g. pd.read_csv)\n",
    "import matplotlib.pyplot as plt\n",
    "import cv2\n",
    "import ipyplot\n",
    "\n",
    "from sklearn.model_selection import train_test_split\n",
    "from sklearn.linear_model import LogisticRegression\n",
    "\n",
    "from tensorflow import keras\n",
    "from tensorflow.keras import layers\n",
    "from tensorflow.keras.preprocessing.image import ImageDataGenerator\n",
    "from tensorflow.keras.losses import CategoricalCrossentropy"
   ]
  },
  {
   "cell_type": "markdown",
   "metadata": {},
   "source": [
    "# LOAD"
   ]
  },
  {
   "cell_type": "code",
   "execution_count": 246,
   "metadata": {},
   "outputs": [],
   "source": [
    "DATASET_FOLDER = 'data'"
   ]
  },
  {
   "cell_type": "code",
   "execution_count": 247,
   "metadata": {},
   "outputs": [],
   "source": [
    "def load_dataset(dataset):\n",
    "    data = np.load(f'{DATASET_FOLDER}/{dataset}.npz')\n",
    "    imgs = data['imgs'].astype(np.float32)/255\n",
    "    imgs = np.expand_dims(imgs, axis=-1)\n",
    "    \n",
    "    df = pd.read_csv(f'{DATASET_FOLDER}/{dataset}.csv')\n",
    "    names = [name.replace('.png', '') for name in data['names']]\n",
    "    assert (df.name == names).all()\n",
    "    if 'label' in df.columns:\n",
    "        labels = df.label.values\n",
    "    else:\n",
    "        labels = None\n",
    "    \n",
    "    return imgs, labels, names"
   ]
  },
  {
   "cell_type": "code",
   "execution_count": 248,
   "metadata": {},
   "outputs": [],
   "source": [
    "train_imgs, train_labels, train_names = load_dataset('train')\n",
    "test_imgs, test_labels, test_names = load_dataset('test')"
   ]
  },
  {
   "cell_type": "code",
   "execution_count": 249,
   "metadata": {},
   "outputs": [],
   "source": [
    "# ipyplot.plot_class_tabs(train_imgs[..., 0], train_labels)\n",
    "# ipyplot.plot_images(test_imgs[..., 0])"
   ]
  },
  {
   "cell_type": "code",
   "execution_count": 250,
   "metadata": {},
   "outputs": [
    {
     "data": {
      "image/png": "[encoded data removed]",
      "text/plain": [
       "<Figure size 500x500 with 9 Axes>"
      ]
     },
     "metadata": {},
     "output_type": "display_data"
    }
   ],
   "source": [
    "number_to_transform = 4\n",
    "\n",
    "plt.figure(figsize=(5, 5))\n",
    "for i in range(9):\n",
    "    # flip the image vertically\n",
    "    image = cv2.flip(train_imgs[train_labels == number_to_transform][i], 0)\n",
    "    cv2.imshow(\"image\", image[0])\n",
    "    ax = plt.subplot(3, 3, i + 1)\n",
    "    plt.imshow(image)\n",
    "    plt.axis(\"off\");\n",
    "# print(image[0].shape)"
   ]
  },
  {
   "cell_type": "code",
   "execution_count": 251,
   "metadata": {},
   "outputs": [],
   "source": [
    "numbers_to_flip = [4,7]\n",
    "\n",
    "number_images_augmented = 0\n",
    "for i in numbers_to_flip:\n",
    "    number_images_augmented += np.sum(train_labels == i)\n",
    "train_imgs_augmented = np.empty((number_images_augmented,)+(28,28,1))\n",
    "train_labels_augmented = np.empty((number_images_augmented,))\n",
    "train_labels_augmented.fill(10)"
   ]
  },
  {
   "cell_type": "code",
   "execution_count": 252,
   "metadata": {},
   "outputs": [
    {
     "name": "stdout",
     "output_type": "stream",
     "text": [
      "(60000, 28, 28, 1)\n",
      "(60000,)\n",
      "(12000, 28, 28, 1)\n",
      "(12000,)\n"
     ]
    }
   ],
   "source": [
    "print(train_imgs.shape)\n",
    "print(train_labels.shape)\n",
    "print(train_imgs_augmented.shape)\n",
    "print(train_labels_augmented.shape)"
   ]
  },
  {
   "cell_type": "code",
   "execution_count": 253,
   "metadata": {},
   "outputs": [],
   "source": [
    "position = 0\n",
    "for i in numbers_to_flip:\n",
    "    for image_to_transform in train_imgs[train_labels == i]:\n",
    "        train_imgs_augmented[position] = np.expand_dims(cv2.flip(image_to_transform, 0), 2)\n",
    "        position+=1"
   ]
  },
  {
   "cell_type": "code",
   "execution_count": 254,
   "metadata": {},
   "outputs": [],
   "source": [
    "train_imgs_augmented = np.vstack((train_imgs,train_imgs_augmented))\n",
    "train_labels_augmented = np.append(train_labels,train_labels_augmented)"
   ]
  },
  {
   "cell_type": "code",
   "execution_count": 255,
   "metadata": {},
   "outputs": [
    {
     "name": "stdout",
     "output_type": "stream",
     "text": [
      "(60000, 28, 28, 1)\n",
      "(60000,)\n",
      "(72000, 28, 28, 1)\n",
      "(72000,)\n"
     ]
    }
   ],
   "source": [
    "print(train_imgs.shape)\n",
    "print(train_labels.shape)\n",
    "print(train_imgs_augmented.shape)\n",
    "print(train_labels_augmented.shape)"
   ]
  },
  {
   "cell_type": "code",
   "execution_count": 256,
   "metadata": {},
   "outputs": [
    {
     "name": "stdout",
     "output_type": "stream",
     "text": [
      "abcdefghijkmnopqrstuvwxyzABCDEFGHIJKLMNOPQRSTUVWXYZ!\"#$%&()*+,-.:;<=>?@^_`{}~\n",
      "Hay 77 caracteres pintables interesantes\n"
     ]
    }
   ],
   "source": [
    "import string\n",
    "caracteresPintables = string.printable\n",
    "for i in range(10):\n",
    "    caracteresPintables = caracteresPintables.replace(str(i), '')\n",
    "# estos se pueden parecer mucho a un 1\n",
    "caracteresPintables = caracteresPintables.replace('/', '')\n",
    "caracteresPintables = caracteresPintables.replace('\\\\', '')\n",
    "caracteresPintables = caracteresPintables.replace('|', '')\n",
    "caracteresPintables = caracteresPintables.replace('l', '')\n",
    "caracteresPintables = caracteresPintables.replace('[', '')\n",
    "caracteresPintables = caracteresPintables.replace(']', '')\n",
    "caracteresPintables = caracteresPintables.replace(\"'\", '')\n",
    "# los ultimos caracteres no se ven\n",
    "caracteresPintables = caracteresPintables[:-6]\n",
    "print(caracteresPintables)\n",
    "print(f'Hay {len(caracteresPintables)} caracteres pintables interesantes')"
   ]
  },
  {
   "cell_type": "code",
   "execution_count": 257,
   "metadata": {},
   "outputs": [],
   "source": [
    "number_images_characters = len(caracteresPintables)\n",
    "train_imgs_characters = np.empty((number_images_characters,)+(28,28,1))\n",
    "train_labels_characters = np.empty((number_images_characters,))\n",
    "train_labels_characters.fill(10)"
   ]
  },
  {
   "cell_type": "code",
   "execution_count": 258,
   "metadata": {},
   "outputs": [
    {
     "name": "stdout",
     "output_type": "stream",
     "text": [
      "(72000, 28, 28, 1)\n",
      "(72000,)\n",
      "(77, 28, 28, 1)\n",
      "(77,)\n"
     ]
    }
   ],
   "source": [
    "print(train_imgs_augmented.shape)\n",
    "print(train_labels_augmented.shape)\n",
    "print(train_imgs_characters.shape)\n",
    "print(train_labels_characters.shape)"
   ]
  },
  {
   "cell_type": "code",
   "execution_count": 259,
   "metadata": {},
   "outputs": [
    {
     "name": "stderr",
     "output_type": "stream",
     "text": [
      "/var/folders/6t/lvrb7nj95pl1x9jzw9h6f0v80000gn/T/ipykernel_3087/448641631.py:12: RuntimeWarning: More than 20 figures have been opened. Figures created through the pyplot interface (`matplotlib.pyplot.figure`) are retained until explicitly closed and may consume too much memory. (To control this warning, see the rcParam `figure.max_open_warning`). Consider using `matplotlib.pyplot.close()`.\n",
      "  plt.figure(figsize=(1, 1))\n"
     ]
    },
    {
     "data": {
      "image/png": "[encoded data removed]",
      "text/plain": [
       "<Figure size 100x100 with 1 Axes>"
      ]
     },
     "metadata": {},
     "output_type": "display_data"
    },
    {
     "data": {
      "image/png": "[encoded data removed]",
      "text/plain": [
       "<Figure size 100x100 with 1 Axes>"
      ]
     },
     "metadata": {},
     "output_type": "display_data"
    },
    {
     "data": {
      "image/png": "[encoded data removed]",
      "text/plain": [
       "<Figure size 100x100 with 1 Axes>"
      ]
     },
     "metadata": {},
     "output_type": "display_data"
    },
    {
     "data": {
      "image/png": "[encoded data removed]",
      "text/plain": [
       "<Figure size 100x100 with 1 Axes>"
      ]
     },
     "metadata": {},
     "output_type": "display_data"
    },
    {
     "data": {
      "image/png": "[encoded data removed]",
      "text/plain": [
       "<Figure size 100x100 with 1 Axes>"
      ]
     },
     "metadata": {},
     "output_type": "display_data"
    },
    {
     "data": {
      "image/png": "[encoded data removed]",
      "text/plain": [
       "<Figure size 100x100 with 1 Axes>"
      ]
     },
     "metadata": {},
     "output_type": "display_data"
    },
    {
     "data": {
      "image/png": "[encoded data removed]",
      "text/plain": [
       "<Figure size 100x100 with 1 Axes>"
      ]
     },
     "metadata": {},
     "output_type": "display_data"
    },
    {
     "data": {
      "image/png": "[encoded data removed]",
      "text/plain": [
       "<Figure size 100x100 with 1 Axes>"
      ]
     },
     "metadata": {},
     "output_type": "display_data"
    },
    {
     "data": {
      "image/png": "[encoded data removed]",
      "text/plain": [
       "<Figure size 100x100 with 1 Axes>"
      ]
     },
     "metadata": {},
     "output_type": "display_data"
    },
    {
     "data": {
      "image/png": "[encoded data removed]",
      "text/plain": [
       "<Figure size 100x100 with 1 Axes>"
      ]
     },
     "metadata": {},
     "output_type": "display_data"
    },
    {
     "data": {
      "image/png": "[encoded data removed]",
      "text/plain": [
       "<Figure size 100x100 with 1 Axes>"
      ]
     },
     "metadata": {},
     "output_type": "display_data"
    },
    {
     "data": {
      "image/png": "[encoded data removed]",
      "text/plain": [
       "<Figure size 100x100 with 1 Axes>"
      ]
     },
     "metadata": {},
     "output_type": "display_data"
    },
    {
     "data": {
      "image/png": "[encoded data removed]",
      "text/plain": [
       "<Figure size 100x100 with 1 Axes>"
      ]
     },
     "metadata": {},
     "output_type": "display_data"
    },
    {
     "data": {
      "image/png": "[encoded data removed]",
      "text/plain": [
       "<Figure size 100x100 with 1 Axes>"
      ]
     },
     "metadata": {},
     "output_type": "display_data"
    },
    {
     "data": {
      "image/png": "[encoded data removed]",
      "text/plain": [
       "<Figure size 100x100 with 1 Axes>"
      ]
     },
     "metadata": {},
     "output_type": "display_data"
    },
    {
     "data": {
      "image/png": "[encoded data removed]",
      "text/plain": [
       "<Figure size 100x100 with 1 Axes>"
      ]
     },
     "metadata": {},
     "output_type": "display_data"
    },
    {
     "data": {
      "image/png": "[encoded data removed]",
      "text/plain": [
       "<Figure size 100x100 with 1 Axes>"
      ]
     },
     "metadata": {},
     "output_type": "display_data"
    },
    {
     "data": {
      "image/png": "[encoded data removed]",
      "text/plain": [
       "<Figure size 100x100 with 1 Axes>"
      ]
     },
     "metadata": {},
     "output_type": "display_data"
    },
    {
     "data": {
      "image/png": "[encoded data removed]",
      "text/plain": [
       "<Figure size 100x100 with 1 Axes>"
      ]
     },
     "metadata": {},
     "output_type": "display_data"
    },
    {
     "data": {
      "image/png": "[encoded data removed]",
      "text/plain": [
       "<Figure size 100x100 with 1 Axes>"
      ]
     },
     "metadata": {},
     "output_type": "display_data"
    },
    {
     "data": {
      "image/png": "[encoded data removed]",
      "text/plain": [
       "<Figure size 100x100 with 1 Axes>"
      ]
     },
     "metadata": {},
     "output_type": "display_data"
    },
    {
     "data": {
      "image/png": "[encoded data removed]",
      "text/plain": [
       "<Figure size 100x100 with 1 Axes>"
      ]
     },
     "metadata": {},
     "output_type": "display_data"
    },
    {
     "data": {
      "image/png": "[encoded data removed]",
      "text/plain": [
       "<Figure size 100x100 with 1 Axes>"
      ]
     },
     "metadata": {},
     "output_type": "display_data"
    },
    {
     "data": {
      "image/png": "[encoded data removed]",
      "text/plain": [
       "<Figure size 100x100 with 1 Axes>"
      ]
     },
     "metadata": {},
     "output_type": "display_data"
    },
    {
     "data": {
      "image/png": "[encoded data removed]",
      "text/plain": [
       "<Figure size 100x100 with 1 Axes>"
      ]
     },
     "metadata": {},
     "output_type": "display_data"
    },
    {
     "data": {
      "image/png": "[encoded data removed]",
      "text/plain": [
       "<Figure size 100x100 with 1 Axes>"
      ]
     },
     "metadata": {},
     "output_type": "display_data"
    },
    {
     "data": {
      "image/png": "[encoded data removed]",
      "text/plain": [
       "<Figure size 100x100 with 1 Axes>"
      ]
     },
     "metadata": {},
     "output_type": "display_data"
    },
    {
     "data": {
      "image/png": "[encoded data removed]",
      "text/plain": [
       "<Figure size 100x100 with 1 Axes>"
      ]
     },
     "metadata": {},
     "output_type": "display_data"
    },
    {
     "data": {
      "image/png": "[encoded data removed]",
      "text/plain": [
       "<Figure size 100x100 with 1 Axes>"
      ]
     },
     "metadata": {},
     "output_type": "display_data"
    },
    {
     "data": {
      "image/png": "[encoded data removed]",
      "text/plain": [
       "<Figure size 100x100 with 1 Axes>"
      ]
     },
     "metadata": {},
     "output_type": "display_data"
    },
    {
     "data": {
      "image/png": "[encoded data removed]",
      "text/plain": [
       "<Figure size 100x100 with 1 Axes>"
      ]
     },
     "metadata": {},
     "output_type": "display_data"
    },
    {
     "data": {
      "image/png": "[encoded data removed]",
      "text/plain": [
       "<Figure size 100x100 with 1 Axes>"
      ]
     },
     "metadata": {},
     "output_type": "display_data"
    },
    {
     "data": {
      "image/png": "[encoded data removed]",
      "text/plain": [
       "<Figure size 100x100 with 1 Axes>"
      ]
     },
     "metadata": {},
     "output_type": "display_data"
    },
    {
     "data": {
      "image/png": "[encoded data removed]",
      "text/plain": [
       "<Figure size 100x100 with 1 Axes>"
      ]
     },
     "metadata": {},
     "output_type": "display_data"
    },
    {
     "data": {
      "image/png": "[encoded data removed]",
      "text/plain": [
       "<Figure size 100x100 with 1 Axes>"
      ]
     },
     "metadata": {},
     "output_type": "display_data"
    },
    {
     "data": {
      "image/png": "[encoded data removed]",
      "text/plain": [
       "<Figure size 100x100 with 1 Axes>"
      ]
     },
     "metadata": {},
     "output_type": "display_data"
    },
    {
     "data": {
      "image/png": "[encoded data removed]",
      "text/plain": [
       "<Figure size 100x100 with 1 Axes>"
      ]
     },
     "metadata": {},
     "output_type": "display_data"
    },
    {
     "data": {
      "image/png": "[encoded data removed]",
      "text/plain": [
       "<Figure size 100x100 with 1 Axes>"
      ]
     },
     "metadata": {},
     "output_type": "display_data"
    },
    {
     "data": {
      "image/png": "[encoded data removed]",
      "text/plain": [
       "<Figure size 100x100 with 1 Axes>"
      ]
     },
     "metadata": {},
     "output_type": "display_data"
    },
    {
     "data": {
      "image/png": "[encoded data removed]",
      "text/plain": [
       "<Figure size 100x100 with 1 Axes>"
      ]
     },
     "metadata": {},
     "output_type": "display_data"
    },
    {
     "data": {
      "image/png": "[encoded data removed]",
      "text/plain": [
       "<Figure size 100x100 with 1 Axes>"
      ]
     },
     "metadata": {},
     "output_type": "display_data"
    },
    {
     "data": {
      "image/png": "[encoded data removed]",
      "text/plain": [
       "<Figure size 100x100 with 1 Axes>"
      ]
     },
     "metadata": {},
     "output_type": "display_data"
    },
    {
     "data": {
      "image/png": "[encoded data removed]",
      "text/plain": [
       "<Figure size 100x100 with 1 Axes>"
      ]
     },
     "metadata": {},
     "output_type": "display_data"
    },
    {
     "data": {
      "image/png": "[encoded data removed]",
      "text/plain": [
       "<Figure size 100x100 with 1 Axes>"
      ]
     },
     "metadata": {},
     "output_type": "display_data"
    },
    {
     "data": {
      "image/png": "[encoded data removed]",
      "text/plain": [
       "<Figure size 100x100 with 1 Axes>"
      ]
     },
     "metadata": {},
     "output_type": "display_data"
    },
    {
     "data": {
      "image/png": "[encoded data removed]",
      "text/plain": [
       "<Figure size 100x100 with 1 Axes>"
      ]
     },
     "metadata": {},
     "output_type": "display_data"
    },
    {
     "data": {
      "image/png": "[encoded data removed]",
      "text/plain": [
       "<Figure size 100x100 with 1 Axes>"
      ]
     },
     "metadata": {},
     "output_type": "display_data"
    },
    {
     "data": {
      "image/png": "[encoded data removed]",
      "text/plain": [
       "<Figure size 100x100 with 1 Axes>"
      ]
     },
     "metadata": {},
     "output_type": "display_data"
    },
    {
     "data": {
      "image/png": "[encoded data removed]",
      "text/plain": [
       "<Figure size 100x100 with 1 Axes>"
      ]
     },
     "metadata": {},
     "output_type": "display_data"
    },
    {
     "data": {
      "image/png": "[encoded data removed]",
      "text/plain": [
       "<Figure size 100x100 with 1 Axes>"
      ]
     },
     "metadata": {},
     "output_type": "display_data"
    },
    {
     "data": {
      "image/png": "[encoded data removed]",
      "text/plain": [
       "<Figure size 100x100 with 1 Axes>"
      ]
     },
     "metadata": {},
     "output_type": "display_data"
    },
    {
     "data": {
      "image/png": "[encoded data removed]",
      "text/plain": [
       "<Figure size 100x100 with 1 Axes>"
      ]
     },
     "metadata": {},
     "output_type": "display_data"
    },
    {
     "data": {
      "image/png": "[encoded data removed]",
      "text/plain": [
       "<Figure size 100x100 with 1 Axes>"
      ]
     },
     "metadata": {},
     "output_type": "display_data"
    },
    {
     "data": {
      "image/png": "[encoded data removed]",
      "text/plain": [
       "<Figure size 100x100 with 1 Axes>"
      ]
     },
     "metadata": {},
     "output_type": "display_data"
    },
    {
     "data": {
      "image/png": "[encoded data removed]",
      "text/plain": [
       "<Figure size 100x100 with 1 Axes>"
      ]
     },
     "metadata": {},
     "output_type": "display_data"
    },
    {
     "data": {
      "image/png": "[encoded data removed]",
      "text/plain": [
       "<Figure size 100x100 with 1 Axes>"
      ]
     },
     "metadata": {},
     "output_type": "display_data"
    },
    {
     "data": {
      "image/png": "[encoded data removed]",
      "text/plain": [
       "<Figure size 100x100 with 1 Axes>"
      ]
     },
     "metadata": {},
     "output_type": "display_data"
    },
    {
     "data": {
      "image/png": "[encoded data removed]",
      "text/plain": [
       "<Figure size 100x100 with 1 Axes>"
      ]
     },
     "metadata": {},
     "output_type": "display_data"
    },
    {
     "data": {
      "image/png": "[encoded data removed]",
      "text/plain": [
       "<Figure size 100x100 with 1 Axes>"
      ]
     },
     "metadata": {},
     "output_type": "display_data"
    },
    {
     "data": {
      "image/png": "[encoded data removed]",
      "text/plain": [
       "<Figure size 100x100 with 1 Axes>"
      ]
     },
     "metadata": {},
     "output_type": "display_data"
    },
    {
     "data": {
      "image/png": "[encoded data removed]",
      "text/plain": [
       "<Figure size 100x100 with 1 Axes>"
      ]
     },
     "metadata": {},
     "output_type": "display_data"
    },
    {
     "data": {
      "image/png": "[encoded data removed]",
      "text/plain": [
       "<Figure size 100x100 with 1 Axes>"
      ]
     },
     "metadata": {},
     "output_type": "display_data"
    },
    {
     "data": {
      "image/png": "[encoded data removed]",
      "text/plain": [
       "<Figure size 100x100 with 1 Axes>"
      ]
     },
     "metadata": {},
     "output_type": "display_data"
    },
    {
     "data": {
      "image/png": "[encoded data removed]",
      "text/plain": [
       "<Figure size 100x100 with 1 Axes>"
      ]
     },
     "metadata": {},
     "output_type": "display_data"
    },
    {
     "data": {
      "image/png": "[encoded data removed]",
      "text/plain": [
       "<Figure size 100x100 with 1 Axes>"
      ]
     },
     "metadata": {},
     "output_type": "display_data"
    },
    {
     "data": {
      "image/png": "[encoded data removed]",
      "text/plain": [
       "<Figure size 100x100 with 1 Axes>"
      ]
     },
     "metadata": {},
     "output_type": "display_data"
    },
    {
     "data": {
      "image/png": "[encoded data removed]",
      "text/plain": [
       "<Figure size 100x100 with 1 Axes>"
      ]
     },
     "metadata": {},
     "output_type": "display_data"
    },
    {
     "data": {
      "image/png": "[encoded data removed]",
      "text/plain": [
       "<Figure size 100x100 with 1 Axes>"
      ]
     },
     "metadata": {},
     "output_type": "display_data"
    },
    {
     "data": {
      "image/png": "[encoded data removed]",
      "text/plain": [
       "<Figure size 100x100 with 1 Axes>"
      ]
     },
     "metadata": {},
     "output_type": "display_data"
    },
    {
     "data": {
      "image/png": "[encoded data removed]",
      "text/plain": [
       "<Figure size 100x100 with 1 Axes>"
      ]
     },
     "metadata": {},
     "output_type": "display_data"
    },
    {
     "data": {
      "image/png": "[encoded data removed]",
      "text/plain": [
       "<Figure size 100x100 with 1 Axes>"
      ]
     },
     "metadata": {},
     "output_type": "display_data"
    },
    {
     "data": {
      "image/png": "[encoded data removed]",
      "text/plain": [
       "<Figure size 100x100 with 1 Axes>"
      ]
     },
     "metadata": {},
     "output_type": "display_data"
    },
    {
     "data": {
      "image/png": "[encoded data removed]",
      "text/plain": [
       "<Figure size 100x100 with 1 Axes>"
      ]
     },
     "metadata": {},
     "output_type": "display_data"
    },
    {
     "data": {
      "image/png": "[encoded data removed]",
      "text/plain": [
       "<Figure size 100x100 with 1 Axes>"
      ]
     },
     "metadata": {},
     "output_type": "display_data"
    },
    {
     "data": {
      "image/png": "[encoded data removed]",
      "text/plain": [
       "<Figure size 100x100 with 1 Axes>"
      ]
     },
     "metadata": {},
     "output_type": "display_data"
    },
    {
     "data": {
      "image/png": "[encoded data removed]",
      "text/plain": [
       "<Figure size 100x100 with 1 Axes>"
      ]
     },
     "metadata": {},
     "output_type": "display_data"
    },
    {
     "data": {
      "image/png": "[encoded data removed]",
      "text/plain": [
       "<Figure size 100x100 with 1 Axes>"
      ]
     },
     "metadata": {},
     "output_type": "display_data"
    }
   ],
   "source": [
    "for i, caracterPintable in enumerate(caracteresPintables):\n",
    "  blackImage = np.zeros((28,28,1), dtype = np.float32)\n",
    "  # Using cv2.putText() method\n",
    "  image = cv2.putText(img = blackImage,\n",
    "    text = caracterPintable,\n",
    "    org = (3, 22),\n",
    "    fontFace = cv2.FONT_HERSHEY_SIMPLEX,\n",
    "    fontScale = 1.0,\n",
    "    color = (1, 1, 1),\n",
    "    thickness = 1)\n",
    "  train_imgs_characters[i] = image\n",
    "  plt.figure(figsize=(1, 1))\n",
    "  cv2.imshow(\"image\", image)\n",
    "  plt.imshow(cv2.cvtColor(image, cv2.COLOR_BGR2RGB))\n",
    "  plt.axis(\"off\");"
   ]
  },
  {
   "cell_type": "code",
   "execution_count": 260,
   "metadata": {},
   "outputs": [
    {
     "data": {
      "text/plain": [
       "(3229,)"
      ]
     },
     "execution_count": 260,
     "metadata": {},
     "output_type": "execute_result"
    }
   ],
   "source": [
    "train_imgs_characters[train_imgs_characters != 0].shape"
   ]
  },
  {
   "cell_type": "code",
   "execution_count": 261,
   "metadata": {},
   "outputs": [],
   "source": [
    "train_imgs_augmented = np.vstack((train_imgs_augmented, train_imgs_characters))\n",
    "train_labels_augmented = np.append(train_labels_augmented, train_labels_characters)"
   ]
  },
  {
   "cell_type": "code",
   "execution_count": 262,
   "metadata": {},
   "outputs": [
    {
     "name": "stdout",
     "output_type": "stream",
     "text": [
      "(72077, 28, 28, 1)\n",
      "(72077,)\n"
     ]
    }
   ],
   "source": [
    "print(train_imgs_augmented.shape)\n",
    "print(train_labels_augmented.shape)"
   ]
  },
  {
   "cell_type": "code",
   "execution_count": 263,
   "metadata": {},
   "outputs": [],
   "source": [
    "num_classes = 11\n",
    "y_train = keras.utils.to_categorical(train_labels_augmented, num_classes)"
   ]
  },
  {
   "cell_type": "code",
   "execution_count": 264,
   "metadata": {},
   "outputs": [],
   "source": [
    "val_ratio = 0.1\n",
    "train_indices, val_indices = train_test_split(\n",
    "    np.arange(len(train_imgs_augmented)), test_size=val_ratio,\n",
    "    random_state=42, stratify=train_labels_augmented)"
   ]
  },
  {
   "cell_type": "markdown",
   "metadata": {},
   "source": [
    "# MODEL"
   ]
  },
  {
   "cell_type": "code",
   "execution_count": 265,
   "metadata": {},
   "outputs": [],
   "source": [
    "def get_model(num_classes, initial_filters=32, verbose=False):\n",
    "    model = keras.Sequential(\n",
    "        [\n",
    "            keras.Input(shape=train_imgs.shape[1:]),\n",
    "            layers.Conv2D(initial_filters, kernel_size=(3, 3), activation=\"relu\"),\n",
    "            layers.MaxPooling2D(pool_size=(2, 2)),\n",
    "            layers.Conv2D(initial_filters*2, kernel_size=(3, 3), activation=\"relu\"),\n",
    "            layers.MaxPooling2D(pool_size=(2, 2)),\n",
    "            layers.Flatten(),\n",
    "            layers.Dropout(0.5),\n",
    "            layers.Dense(num_classes, activation=\"softmax\"),\n",
    "        ]\n",
    "    )\n",
    "\n",
    "    if verbose:\n",
    "        model.summary()\n",
    "        \n",
    "    return model"
   ]
  },
  {
   "cell_type": "code",
   "execution_count": 266,
   "metadata": {},
   "outputs": [],
   "source": [
    "model = get_model(num_classes, verbose=False)\n",
    "# model = get_model(11, verbose=True)\n",
    "# keras.utils.plot_model(model, show_shapes=True)"
   ]
  },
  {
   "cell_type": "markdown",
   "metadata": {},
   "source": [
    "# TRAIN"
   ]
  },
  {
   "cell_type": "code",
   "execution_count": 287,
   "metadata": {},
   "outputs": [
    {
     "name": "stdout",
     "output_type": "stream",
     "text": [
      "Epoch 1/100\n"
     ]
    },
    {
     "name": "stderr",
     "output_type": "stream",
     "text": [
      "2023-09-09 18:20:07.761792: I tensorflow/core/grappler/optimizers/custom_graph_optimizer_registry.cc:113] Plugin optimizer for device_type GPU is enabled.\n"
     ]
    },
    {
     "name": "stdout",
     "output_type": "stream",
     "text": [
      "507/507 [==============================] - ETA: 0s - loss: 0.8308 - accuracy: 0.9074"
     ]
    },
    {
     "name": "stderr",
     "output_type": "stream",
     "text": [
      "2023-09-09 18:20:17.645311: I tensorflow/core/grappler/optimizers/custom_graph_optimizer_registry.cc:113] Plugin optimizer for device_type GPU is enabled.\n"
     ]
    },
    {
     "name": "stdout",
     "output_type": "stream",
     "text": [
      "507/507 [==============================] - 11s 20ms/step - loss: 0.8308 - accuracy: 0.9074 - val_loss: 0.6539 - val_accuracy: 0.9775 - lr: 0.0010\n",
      "Epoch 2/100\n",
      "507/507 [==============================] - 10s 19ms/step - loss: 0.6605 - accuracy: 0.9745 - val_loss: 0.6243 - val_accuracy: 0.9839 - lr: 0.0010\n",
      "Epoch 3/100\n",
      "507/507 [==============================] - 10s 20ms/step - loss: 0.6372 - accuracy: 0.9805 - val_loss: 0.6128 - val_accuracy: 0.9847 - lr: 0.0010\n",
      "Epoch 4/100\n",
      "507/507 [==============================] - 10s 19ms/step - loss: 0.6237 - accuracy: 0.9838 - val_loss: 0.6027 - val_accuracy: 0.9874 - lr: 0.0010\n",
      "Epoch 5/100\n",
      "507/507 [==============================] - 10s 20ms/step - loss: 0.6148 - accuracy: 0.9859 - val_loss: 0.5962 - val_accuracy: 0.9881 - lr: 0.0010\n",
      "Epoch 6/100\n",
      "507/507 [==============================] - 10s 19ms/step - loss: 0.6094 - accuracy: 0.9867 - val_loss: 0.5923 - val_accuracy: 0.9899 - lr: 0.0010\n",
      "Epoch 7/100\n",
      "507/507 [==============================] - 10s 20ms/step - loss: 0.6049 - accuracy: 0.9879 - val_loss: 0.5890 - val_accuracy: 0.9895 - lr: 0.0010\n",
      "Epoch 8/100\n",
      "507/507 [==============================] - 10s 20ms/step - loss: 0.6016 - accuracy: 0.9888 - val_loss: 0.5855 - val_accuracy: 0.9899 - lr: 0.0010\n",
      "Epoch 9/100\n",
      "507/507 [==============================] - 10s 20ms/step - loss: 0.5984 - accuracy: 0.9895 - val_loss: 0.5838 - val_accuracy: 0.9901 - lr: 0.0010\n",
      "Epoch 10/100\n",
      "507/507 [==============================] - 10s 20ms/step - loss: 0.5965 - accuracy: 0.9901 - val_loss: 0.5832 - val_accuracy: 0.9901 - lr: 0.0010\n",
      "Epoch 11/100\n",
      "507/507 [==============================] - 10s 19ms/step - loss: 0.5948 - accuracy: 0.9901 - val_loss: 0.5791 - val_accuracy: 0.9904 - lr: 0.0010\n",
      "Epoch 12/100\n",
      "507/507 [==============================] - 10s 19ms/step - loss: 0.5927 - accuracy: 0.9906 - val_loss: 0.5783 - val_accuracy: 0.9911 - lr: 0.0010\n",
      "Epoch 13/100\n",
      "507/507 [==============================] - 10s 19ms/step - loss: 0.5917 - accuracy: 0.9909 - val_loss: 0.5783 - val_accuracy: 0.9911 - lr: 0.0010\n",
      "Epoch 14/100\n",
      "507/507 [==============================] - 10s 19ms/step - loss: 0.5897 - accuracy: 0.9914 - val_loss: 0.5754 - val_accuracy: 0.9911 - lr: 0.0010\n",
      "Epoch 15/100\n",
      "507/507 [==============================] - 10s 20ms/step - loss: 0.5887 - accuracy: 0.9913 - val_loss: 0.5753 - val_accuracy: 0.9913 - lr: 0.0010\n",
      "Epoch 16/100\n",
      "507/507 [==============================] - 10s 19ms/step - loss: 0.5882 - accuracy: 0.9915 - val_loss: 0.5751 - val_accuracy: 0.9925 - lr: 0.0010\n",
      "Epoch 17/100\n",
      "507/507 [==============================] - 10s 20ms/step - loss: 0.5872 - accuracy: 0.9922 - val_loss: 0.5734 - val_accuracy: 0.9918 - lr: 0.0010\n",
      "Epoch 18/100\n",
      "507/507 [==============================] - 10s 19ms/step - loss: 0.5865 - accuracy: 0.9922 - val_loss: 0.5735 - val_accuracy: 0.9921 - lr: 0.0010\n",
      "Epoch 19/100\n",
      "507/507 [==============================] - 10s 19ms/step - loss: 0.5854 - accuracy: 0.9925 - val_loss: 0.5732 - val_accuracy: 0.9921 - lr: 0.0010\n",
      "Epoch 20/100\n",
      "507/507 [==============================] - 10s 19ms/step - loss: 0.5846 - accuracy: 0.9923 - val_loss: 0.5749 - val_accuracy: 0.9921 - lr: 0.0010\n",
      "Epoch 21/100\n",
      "507/507 [==============================] - 10s 20ms/step - loss: 0.5839 - accuracy: 0.9926 - val_loss: 0.5708 - val_accuracy: 0.9924 - lr: 0.0010\n",
      "Epoch 22/100\n",
      "507/507 [==============================] - 10s 20ms/step - loss: 0.5835 - accuracy: 0.9927 - val_loss: 0.5723 - val_accuracy: 0.9918 - lr: 0.0010\n",
      "Epoch 23/100\n",
      "507/507 [==============================] - 10s 20ms/step - loss: 0.5833 - accuracy: 0.9927 - val_loss: 0.5702 - val_accuracy: 0.9925 - lr: 0.0010\n",
      "Epoch 24/100\n",
      "507/507 [==============================] - 11s 21ms/step - loss: 0.5827 - accuracy: 0.9929 - val_loss: 0.5695 - val_accuracy: 0.9932 - lr: 0.0010\n",
      "Epoch 25/100\n",
      "507/507 [==============================] - 10s 20ms/step - loss: 0.5815 - accuracy: 0.9929 - val_loss: 0.5683 - val_accuracy: 0.9929 - lr: 0.0010\n",
      "Epoch 26/100\n",
      "507/507 [==============================] - 10s 20ms/step - loss: 0.5811 - accuracy: 0.9931 - val_loss: 0.5679 - val_accuracy: 0.9932 - lr: 0.0010\n",
      "Epoch 27/100\n",
      "507/507 [==============================] - 10s 20ms/step - loss: 0.5809 - accuracy: 0.9932 - val_loss: 0.5691 - val_accuracy: 0.9926 - lr: 0.0010\n",
      "Epoch 28/100\n",
      "507/507 [==============================] - 10s 20ms/step - loss: 0.5807 - accuracy: 0.9931 - val_loss: 0.5683 - val_accuracy: 0.9929 - lr: 0.0010\n",
      "Epoch 29/100\n",
      "507/507 [==============================] - ETA: 0s - loss: 0.5800 - accuracy: 0.9938\n",
      "Epoch 29: ReduceLROnPlateau reducing learning rate to 0.0005000000237487257.\n",
      "507/507 [==============================] - 10s 21ms/step - loss: 0.5800 - accuracy: 0.9938 - val_loss: 0.5685 - val_accuracy: 0.9935 - lr: 0.0010\n",
      "Epoch 30/100\n",
      "507/507 [==============================] - 10s 20ms/step - loss: 0.5768 - accuracy: 0.9943 - val_loss: 0.5659 - val_accuracy: 0.9932 - lr: 5.0000e-04\n",
      "Epoch 31/100\n",
      "507/507 [==============================] - 10s 20ms/step - loss: 0.5765 - accuracy: 0.9941 - val_loss: 0.5668 - val_accuracy: 0.9929 - lr: 5.0000e-04\n",
      "Epoch 32/100\n",
      "507/507 [==============================] - 10s 19ms/step - loss: 0.5763 - accuracy: 0.9942 - val_loss: 0.5655 - val_accuracy: 0.9936 - lr: 5.0000e-04\n",
      "Epoch 33/100\n",
      "507/507 [==============================] - 10s 20ms/step - loss: 0.5762 - accuracy: 0.9942 - val_loss: 0.5665 - val_accuracy: 0.9940 - lr: 5.0000e-04\n",
      "Epoch 34/100\n",
      "507/507 [==============================] - 11s 21ms/step - loss: 0.5756 - accuracy: 0.9946 - val_loss: 0.5657 - val_accuracy: 0.9933 - lr: 5.0000e-04\n",
      "Epoch 35/100\n",
      "507/507 [==============================] - 10s 20ms/step - loss: 0.5755 - accuracy: 0.9945 - val_loss: 0.5654 - val_accuracy: 0.9940 - lr: 5.0000e-04\n",
      "Epoch 36/100\n",
      "507/507 [==============================] - 10s 20ms/step - loss: 0.5756 - accuracy: 0.9945 - val_loss: 0.5660 - val_accuracy: 0.9933 - lr: 5.0000e-04\n",
      "Epoch 37/100\n",
      "507/507 [==============================] - 10s 20ms/step - loss: 0.5750 - accuracy: 0.9945 - val_loss: 0.5654 - val_accuracy: 0.9940 - lr: 5.0000e-04\n",
      "Epoch 38/100\n",
      "507/507 [==============================] - 10s 20ms/step - loss: 0.5752 - accuracy: 0.9943 - val_loss: 0.5652 - val_accuracy: 0.9933 - lr: 5.0000e-04\n",
      "Epoch 39/100\n",
      "507/507 [==============================] - 10s 20ms/step - loss: 0.5749 - accuracy: 0.9944 - val_loss: 0.5649 - val_accuracy: 0.9938 - lr: 5.0000e-04\n",
      "Epoch 40/100\n",
      "507/507 [==============================] - 10s 20ms/step - loss: 0.5746 - accuracy: 0.9947 - val_loss: 0.5646 - val_accuracy: 0.9939 - lr: 5.0000e-04\n",
      "Epoch 41/100\n",
      "507/507 [==============================] - 10s 20ms/step - loss: 0.5748 - accuracy: 0.9945 - val_loss: 0.5645 - val_accuracy: 0.9940 - lr: 5.0000e-04\n",
      "Epoch 42/100\n",
      "507/507 [==============================] - 10s 20ms/step - loss: 0.5742 - accuracy: 0.9946 - val_loss: 0.5650 - val_accuracy: 0.9932 - lr: 5.0000e-04\n",
      "Epoch 43/100\n",
      "507/507 [==============================] - 10s 20ms/step - loss: 0.5738 - accuracy: 0.9946 - val_loss: 0.5658 - val_accuracy: 0.9935 - lr: 5.0000e-04\n",
      "Epoch 44/100\n",
      "507/507 [==============================] - 10s 20ms/step - loss: 0.5740 - accuracy: 0.9947 - val_loss: 0.5641 - val_accuracy: 0.9946 - lr: 5.0000e-04\n",
      "Epoch 45/100\n",
      "507/507 [==============================] - 10s 20ms/step - loss: 0.5744 - accuracy: 0.9943 - val_loss: 0.5644 - val_accuracy: 0.9942 - lr: 5.0000e-04\n",
      "Epoch 46/100\n",
      "507/507 [==============================] - 10s 20ms/step - loss: 0.5738 - accuracy: 0.9947 - val_loss: 0.5644 - val_accuracy: 0.9939 - lr: 5.0000e-04\n",
      "Epoch 47/100\n",
      "507/507 [==============================] - ETA: 0s - loss: 0.5738 - accuracy: 0.9946\n",
      "Epoch 47: ReduceLROnPlateau reducing learning rate to 0.0002500000118743628.\n",
      "507/507 [==============================] - 10s 20ms/step - loss: 0.5738 - accuracy: 0.9946 - val_loss: 0.5646 - val_accuracy: 0.9935 - lr: 5.0000e-04\n",
      "Epoch 48/100\n",
      "507/507 [==============================] - 10s 20ms/step - loss: 0.5723 - accuracy: 0.9949 - val_loss: 0.5637 - val_accuracy: 0.9942 - lr: 2.5000e-04\n",
      "Epoch 49/100\n",
      "507/507 [==============================] - 10s 20ms/step - loss: 0.5720 - accuracy: 0.9952 - val_loss: 0.5639 - val_accuracy: 0.9940 - lr: 2.5000e-04\n",
      "Epoch 50/100\n",
      "507/507 [==============================] - 10s 20ms/step - loss: 0.5721 - accuracy: 0.9956 - val_loss: 0.5632 - val_accuracy: 0.9936 - lr: 2.5000e-04\n",
      "Epoch 51/100\n",
      "507/507 [==============================] - 10s 20ms/step - loss: 0.5721 - accuracy: 0.9953 - val_loss: 0.5631 - val_accuracy: 0.9940 - lr: 2.5000e-04\n",
      "Epoch 52/100\n",
      "507/507 [==============================] - 10s 20ms/step - loss: 0.5720 - accuracy: 0.9951 - val_loss: 0.5632 - val_accuracy: 0.9935 - lr: 2.5000e-04\n",
      "Epoch 53/100\n",
      "507/507 [==============================] - 10s 20ms/step - loss: 0.5719 - accuracy: 0.9951 - val_loss: 0.5634 - val_accuracy: 0.9938 - lr: 2.5000e-04\n",
      "Epoch 54/100\n",
      "506/507 [============================>.] - ETA: 0s - loss: 0.5722 - accuracy: 0.9949\n",
      "Epoch 54: ReduceLROnPlateau reducing learning rate to 0.0001250000059371814.\n",
      "507/507 [==============================] - 10s 20ms/step - loss: 0.5722 - accuracy: 0.9949 - val_loss: 0.5634 - val_accuracy: 0.9942 - lr: 2.5000e-04\n",
      "Epoch 55/100\n",
      "507/507 [==============================] - 10s 20ms/step - loss: 0.5711 - accuracy: 0.9954 - val_loss: 0.5629 - val_accuracy: 0.9942 - lr: 1.2500e-04\n",
      "Epoch 56/100\n",
      "507/507 [==============================] - 10s 20ms/step - loss: 0.5706 - accuracy: 0.9957 - val_loss: 0.5627 - val_accuracy: 0.9940 - lr: 1.2500e-04\n",
      "Epoch 57/100\n",
      "507/507 [==============================] - 10s 20ms/step - loss: 0.5707 - accuracy: 0.9955 - val_loss: 0.5628 - val_accuracy: 0.9942 - lr: 1.2500e-04\n",
      "Epoch 58/100\n",
      "507/507 [==============================] - 10s 20ms/step - loss: 0.5708 - accuracy: 0.9953 - val_loss: 0.5628 - val_accuracy: 0.9942 - lr: 1.2500e-04\n",
      "Epoch 59/100\n",
      "507/507 [==============================] - ETA: 0s - loss: 0.5707 - accuracy: 0.9953\n",
      "Epoch 59: ReduceLROnPlateau reducing learning rate to 6.25000029685907e-05.\n",
      "507/507 [==============================] - 10s 20ms/step - loss: 0.5707 - accuracy: 0.9953 - val_loss: 0.5628 - val_accuracy: 0.9945 - lr: 1.2500e-04\n",
      "Epoch 60/100\n",
      "507/507 [==============================] - 10s 20ms/step - loss: 0.5702 - accuracy: 0.9958 - val_loss: 0.5626 - val_accuracy: 0.9945 - lr: 6.2500e-05\n",
      "Epoch 61/100\n",
      "507/507 [==============================] - 10s 20ms/step - loss: 0.5700 - accuracy: 0.9956 - val_loss: 0.5626 - val_accuracy: 0.9943 - lr: 6.2500e-05\n",
      "Epoch 62/100\n",
      "507/507 [==============================] - 10s 20ms/step - loss: 0.5699 - accuracy: 0.9958 - val_loss: 0.5624 - val_accuracy: 0.9943 - lr: 6.2500e-05\n",
      "Epoch 63/100\n",
      "507/507 [==============================] - 10s 20ms/step - loss: 0.5702 - accuracy: 0.9956 - val_loss: 0.5627 - val_accuracy: 0.9943 - lr: 6.2500e-05\n",
      "Epoch 64/100\n",
      "507/507 [==============================] - 10s 20ms/step - loss: 0.5704 - accuracy: 0.9960 - val_loss: 0.5626 - val_accuracy: 0.9945 - lr: 6.2500e-05\n",
      "Epoch 64: early stopping\n"
     ]
    }
   ],
   "source": [
    "epochs = 100\n",
    "batch_size = 128\n",
    "\n",
    "model = get_model(num_classes)\n",
    "model.compile(loss=CategoricalCrossentropy(label_smoothing=0.1), optimizer=\"adam\", metrics=[\"accuracy\"])\n",
    "\n",
    "callbacks=[\n",
    "    keras.callbacks.EarlyStopping(patience=20, monitor='val_accuracy', verbose=True),\n",
    "    keras.callbacks.ReduceLROnPlateau(patience=3, factor=0.5, monitor='val_loss', verbose=True)\n",
    "]\n",
    "\n",
    "ret = model.fit(train_imgs_augmented[train_indices], y_train[train_indices],\n",
    "                validation_data=(train_imgs_augmented[val_indices],y_train[val_indices]),\n",
    "                batch_size=batch_size, epochs=epochs,\n",
    "                callbacks=callbacks, verbose=1);"
   ]
  },
  {
   "cell_type": "code",
   "execution_count": 268,
   "metadata": {},
   "outputs": [],
   "source": [
    "def plot_train_evolution(ret):\n",
    "    print()\n",
    "    for key in ['accuracy', 'val_accuracy']:\n",
    "        print(f'best {key}: {np.max(ret.history[key]):.3f}')\n",
    "        values = 1-np.array(ret.history[key])\n",
    "        label = key.replace('accuracy', 'error') + f' min value {np.min(values):.1e}'\n",
    "        plt.plot(values, label=label)\n",
    "    plt.yscale('log')\n",
    "    plt.title(f'Max val accuracy {np.max(ret.history[\"val_accuracy\"]):.3f}')\n",
    "    plt.legend(loc=0);\n",
    "    plt.xlabel('Epoch')\n",
    "    plt.ylabel('Error')\n",
    "    plt.grid(which='both')"
   ]
  },
  {
   "cell_type": "code",
   "execution_count": 288,
   "metadata": {},
   "outputs": [
    {
     "name": "stdout",
     "output_type": "stream",
     "text": [
      "\n",
      "best accuracy: 0.996\n",
      "best val_accuracy: 0.995\n"
     ]
    },
    {
     "data": {
      "image/png": "[encoded data removed]",
      "text/plain": [
       "<Figure size 640x480 with 1 Axes>"
      ]
     },
     "metadata": {},
     "output_type": "display_data"
    }
   ],
   "source": [
    "plot_train_evolution(ret)"
   ]
  },
  {
   "cell_type": "code",
   "execution_count": 279,
   "metadata": {},
   "outputs": [
    {
     "name": "stdout",
     "output_type": "stream",
     "text": [
      "157/157 [==============================] - 1s 6ms/step\n"
     ]
    }
   ],
   "source": [
    "test_preds = model.predict(test_imgs, batch_size=128, verbose=1)"
   ]
  },
  {
   "cell_type": "markdown",
   "metadata": {},
   "source": [
    "# VISUALIZE"
   ]
  },
  {
   "cell_type": "code",
   "execution_count": 271,
   "metadata": {},
   "outputs": [],
   "source": [
    "def visualize_test_img_and_pred(idx):\n",
    "    plt.subplot(121)\n",
    "    plt.imshow(test_imgs[idx])\n",
    "    plt.subplot(122)\n",
    "    #plt.plot(test_preds[idx])\n",
    "    plt.bar(np.arange(10), test_preds[idx])\n",
    "    plt.title(f'Max pred {np.max(test_preds[idx]):.2f}')\n",
    "    plt.ylim(0, 1)\n",
    "    plt.xticks(np.arange(10))"
   ]
  },
  {
   "cell_type": "code",
   "execution_count": 272,
   "metadata": {},
   "outputs": [],
   "source": [
    "# for idx in range(10):\n",
    "#     visualize_test_img_and_pred(idx)\n",
    "#     plt.show()"
   ]
  },
  {
   "cell_type": "code",
   "execution_count": 273,
   "metadata": {},
   "outputs": [
    {
     "data": {
      "image/png": "[encoded data removed]",
      "text/plain": [
       "<Figure size 3000x700 with 2 Axes>"
      ]
     },
     "metadata": {},
     "output_type": "display_data"
    }
   ],
   "source": [
    "plt.figure(figsize=(30, 7))\n",
    "max_test_preds = np.max(test_preds, axis=1)\n",
    "plt.subplot(211)\n",
    "plt.title('Distribution of max pred')\n",
    "plt.hist(max_test_preds, bins=50);\n",
    "plt.subplot(212)\n",
    "plt.title('Cumulative Distribution of max pred')\n",
    "plt.hist(max_test_preds, bins=100, cumulative=1, density=True);\n",
    "plt.grid()"
   ]
  },
  {
   "cell_type": "markdown",
   "metadata": {},
   "source": [
    "# SUBMIT"
   ]
  },
  {
   "cell_type": "code",
   "execution_count": 293,
   "metadata": {},
   "outputs": [
    {
     "data": {
      "text/plain": [
       "0      1165\n",
       "1       990\n",
       "2      1038\n",
       "3       950\n",
       "4       967\n",
       "5       972\n",
       "6       980\n",
       "7       879\n",
       "8      1004\n",
       "9       842\n",
       "10    10251\n",
       "dtype: int64"
      ]
     },
     "metadata": {},
     "output_type": "display_data"
    }
   ],
   "source": [
    "test_labels = np.argmax(test_preds, axis=1)\n",
    "max_test_preds = np.max(test_preds, axis=1)\n",
    "test_labels[max_test_preds < np.median(max_test_preds)] = 10\n",
    "nPrediccionesPorClase = np.unique(test_labels, return_counts=True)\n",
    "display(pd.Series(nPrediccionesPorClase[1]))"
   ]
  },
  {
   "cell_type": "code",
   "execution_count": 294,
   "metadata": {},
   "outputs": [
    {
     "data": {
      "text/plain": [
       "51.16"
      ]
     },
     "execution_count": 294,
     "metadata": {},
     "output_type": "execute_result"
    }
   ],
   "source": [
    "# porcentaje de no numeros predecido\n",
    "np.round(nPrediccionesPorClase[1][10]*100/test_labels.shape[0],2)"
   ]
  },
  {
   "cell_type": "code",
   "execution_count": 295,
   "metadata": {},
   "outputs": [
    {
     "data": {
      "text/html": [
       "<div>\n",
       "<style scoped>\n",
       "    .dataframe tbody tr th:only-of-type {\n",
       "        vertical-align: middle;\n",
       "    }\n",
       "\n",
       "    .dataframe tbody tr th {\n",
       "        vertical-align: top;\n",
       "    }\n",
       "\n",
       "    .dataframe thead th {\n",
       "        text-align: right;\n",
       "    }\n",
       "</style>\n",
       "<table border=\"1\" class=\"dataframe\">\n",
       "  <thead>\n",
       "    <tr style=\"text-align: right;\">\n",
       "      <th></th>\n",
       "      <th>name</th>\n",
       "      <th>label</th>\n",
       "    </tr>\n",
       "  </thead>\n",
       "  <tbody>\n",
       "    <tr>\n",
       "      <th>0</th>\n",
       "      <td>000245159744cee166bd566168033e37</td>\n",
       "      <td>10</td>\n",
       "    </tr>\n",
       "    <tr>\n",
       "      <th>1</th>\n",
       "      <td>0002fa2768dff946a9440ba527b7094c</td>\n",
       "      <td>0</td>\n",
       "    </tr>\n",
       "    <tr>\n",
       "      <th>2</th>\n",
       "      <td>000e6e1550101554e232afc958ad07ca</td>\n",
       "      <td>6</td>\n",
       "    </tr>\n",
       "    <tr>\n",
       "      <th>3</th>\n",
       "      <td>0015f3f045a3d501fd0015a3cdd8a918</td>\n",
       "      <td>10</td>\n",
       "    </tr>\n",
       "    <tr>\n",
       "      <th>4</th>\n",
       "      <td>0018f902cf6145276b7703b35f77f6e4</td>\n",
       "      <td>10</td>\n",
       "    </tr>\n",
       "  </tbody>\n",
       "</table>\n",
       "</div>"
      ],
      "text/plain": [
       "                               name  label\n",
       "0  000245159744cee166bd566168033e37     10\n",
       "1  0002fa2768dff946a9440ba527b7094c      0\n",
       "2  000e6e1550101554e232afc958ad07ca      6\n",
       "3  0015f3f045a3d501fd0015a3cdd8a918     10\n",
       "4  0018f902cf6145276b7703b35f77f6e4     10"
      ]
     },
     "execution_count": 295,
     "metadata": {},
     "output_type": "execute_result"
    }
   ],
   "source": [
    "submission = pd.read_csv(f'{DATASET_FOLDER}/sample_submission.csv')\n",
    "assert (submission.name == test_names).all()\n",
    "submission['label'] = test_labels\n",
    "submission.head()"
   ]
  },
  {
   "cell_type": "code",
   "execution_count": 296,
   "metadata": {},
   "outputs": [],
   "source": [
    "submission.to_csv('submission.csv', index=False)"
   ]
  }
 ],
 "metadata": {
  "kernelspec": {
   "display_name": "base",
   "language": "python",
   "name": "python3"
  },
  "language_info": {
   "codemirror_mode": {
    "name": "ipython",
    "version": 3
   },
   "file_extension": ".py",
   "mimetype": "text/x-python",
   "name": "python",
   "nbconvert_exporter": "python",
   "pygments_lexer": "ipython3",
   "version": "3.10.9"
  },
  "orig_nbformat": 4
 },
 "nbformat": 4,
 "nbformat_minor": 2
}
