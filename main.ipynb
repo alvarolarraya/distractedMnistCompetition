{
 "cells": [
  {
   "cell_type": "code",
   "execution_count": 1,
   "metadata": {},
   "outputs": [],
   "source": [
    "import os\n",
    "import glob\n",
    "from tqdm import tqdm\n",
    "import numpy as np # linear algebra\n",
    "import pandas as pd # data processing, CSV file I/O (e.g. pd.read_csv)\n",
    "import matplotlib.pyplot as plt\n",
    "import cv2\n",
    "import ipyplot\n",
    "\n",
    "from sklearn.model_selection import train_test_split\n",
    "from sklearn.linear_model import LogisticRegression\n",
    "\n",
    "from tensorflow import keras\n",
    "from tensorflow.keras import layers\n",
    "from tensorflow.keras.preprocessing.image import ImageDataGenerator"
   ]
  },
  {
   "cell_type": "markdown",
   "metadata": {},
   "source": [
    "# LOAD"
   ]
  },
  {
   "cell_type": "code",
   "execution_count": 2,
   "metadata": {},
   "outputs": [],
   "source": [
    "DATASET_FOLDER = 'data'"
   ]
  },
  {
   "cell_type": "code",
   "execution_count": 3,
   "metadata": {},
   "outputs": [],
   "source": [
    "def load_dataset(dataset):\n",
    "    data = np.load(f'{DATASET_FOLDER}/{dataset}.npz')\n",
    "    imgs = data['imgs'].astype(np.float32)/255\n",
    "    imgs = np.expand_dims(imgs, axis=-1)\n",
    "    \n",
    "    df = pd.read_csv(f'{DATASET_FOLDER}/{dataset}.csv')\n",
    "    names = [name.replace('.png', '') for name in data['names']]\n",
    "    assert (df.name == names).all()\n",
    "    if 'label' in df.columns:\n",
    "        labels = df.label.values\n",
    "    else:\n",
    "        labels = None\n",
    "    \n",
    "    return imgs, labels, names"
   ]
  },
  {
   "cell_type": "code",
   "execution_count": 4,
   "metadata": {},
   "outputs": [],
   "source": [
    "train_imgs, train_labels, train_names = load_dataset('train')\n",
    "test_imgs, test_labels, test_names = load_dataset('test')"
   ]
  },
  {
   "cell_type": "code",
   "execution_count": 172,
   "metadata": {},
   "outputs": [
    {
     "data": {
      "text/plain": [
       "(28, 28, 1)"
      ]
     },
     "execution_count": 172,
     "metadata": {},
     "output_type": "execute_result"
    }
   ],
   "source": [
    "train_imgs[0].shape"
   ]
  },
  {
   "cell_type": "code",
   "execution_count": 274,
   "metadata": {},
   "outputs": [
    {
     "data": {
      "image/png": "[encoded data removed]",
      "text/plain": [
       "<Figure size 500x500 with 9 Axes>"
      ]
     },
     "metadata": {},
     "output_type": "display_data"
    }
   ],
   "source": [
    "number_to_transform = 4\n",
    "# # train_datagen = ImageDataGenerator(shear_range=40, horizontal_flip=True, vertical_flip=True)\n",
    "# train_datagen = ImageDataGenerator(vertical_flip=True)\n",
    "# # train_datagen.fit(train_imgs)\n",
    "# train_datagen.fit(train_imgs[train_labels == number_to_transform])\n",
    "# generator = train_datagen.flow(train_imgs[train_labels == number_to_transform])\n",
    "\n",
    "plt.figure(figsize=(5, 5))\n",
    "for i in range(9):\n",
    "    # flip the image vertically\n",
    "    image = cv2.flip(train_imgs[train_labels == number_to_transform][i], 0)\n",
    "    cv2.imshow(\"image\", image[0])\n",
    "    ax = plt.subplot(3, 3, i + 1)\n",
    "    plt.imshow(image)\n",
    "    plt.axis(\"off\");\n",
    "# print(image[0].shape)"
   ]
  },
  {
   "cell_type": "code",
   "execution_count": 5,
   "metadata": {},
   "outputs": [],
   "source": [
    "numbers_to_flip = [4,7]\n",
    "\n",
    "number_images_augmented = 0\n",
    "for i in numbers_to_flip:\n",
    "    number_images_augmented += np.sum(train_labels == i)\n",
    "train_imgs_augmented = np.empty((number_images_augmented,)+(28,28,1))\n",
    "train_labels_augmented = np.empty((number_images_augmented,))\n",
    "train_labels_augmented.fill(10)"
   ]
  },
  {
   "cell_type": "code",
   "execution_count": 6,
   "metadata": {},
   "outputs": [
    {
     "name": "stdout",
     "output_type": "stream",
     "text": [
      "(60000, 28, 28, 1)\n",
      "(60000,)\n",
      "(12000, 28, 28, 1)\n",
      "(12000,)\n"
     ]
    }
   ],
   "source": [
    "print(train_imgs.shape)\n",
    "print(train_labels.shape)\n",
    "print(train_imgs_augmented.shape)\n",
    "print(train_labels_augmented.shape)"
   ]
  },
  {
   "cell_type": "code",
   "execution_count": 7,
   "metadata": {},
   "outputs": [],
   "source": [
    "position = 0\n",
    "for i in numbers_to_flip:\n",
    "    for image_to_transform in train_imgs[train_labels == i]:\n",
    "        train_imgs_augmented[position] = np.expand_dims(cv2.flip(image_to_transform, 0), 2)\n",
    "        position+=1"
   ]
  },
  {
   "cell_type": "code",
   "execution_count": 232,
   "metadata": {},
   "outputs": [
    {
     "name": "stderr",
     "output_type": "stream",
     "text": [
      "100%|██████████| 60000/60000 [01:43<00:00, 577.74it/s]\n"
     ]
    }
   ],
   "source": [
    "# for i in tqdm(range(train_imgs.shape[0])):\n",
    "#     augmented_image = generator.next()\n",
    "#     train_imgs_augmented[i] = augmented_image[0]\n",
    "# train_imgs_augmented = np.vstack((train_imgs,train_imgs_augmented))\n",
    "# train_labels_augmented = np.append(train_labels,train_labels_augmented)"
   ]
  },
  {
   "cell_type": "code",
   "execution_count": 8,
   "metadata": {},
   "outputs": [],
   "source": [
    "train_imgs_augmented = np.vstack((train_imgs,train_imgs_augmented))\n",
    "train_labels_augmented = np.append(train_labels,train_labels_augmented)"
   ]
  },
  {
   "cell_type": "code",
   "execution_count": 9,
   "metadata": {},
   "outputs": [
    {
     "name": "stdout",
     "output_type": "stream",
     "text": [
      "(60000, 28, 28, 1)\n",
      "(60000,)\n",
      "(72000, 28, 28, 1)\n",
      "(72000,)\n"
     ]
    }
   ],
   "source": [
    "print(train_imgs.shape)\n",
    "print(train_labels.shape)\n",
    "print(train_imgs_augmented.shape)\n",
    "print(train_labels_augmented.shape)"
   ]
  },
  {
   "cell_type": "code",
   "execution_count": 230,
   "metadata": {},
   "outputs": [],
   "source": [
    "# blackImage = np.zeros((28,28,1), dtype = np.uint8)\n",
    "# org = (50, 50)\n",
    "# font = cv2.FONT_HERSHEY_SIMPLEX\n",
    "# fontScale = 1\n",
    "# # Blue color in BGR\n",
    "# color = (0,0,0)  \n",
    "# # Line thickness of 2 px\n",
    "# thickness = 2   \n",
    "# # Using cv2.putText() method\n",
    "# image = cv2.putText(image, 'OpenCV', org, font, \n",
    "#                    fontScale, color, thickness, cv2.LINE_AA)"
   ]
  },
  {
   "cell_type": "code",
   "execution_count": 234,
   "metadata": {},
   "outputs": [],
   "source": [
    "# ipyplot.plot_class_tabs(train_imgs[..., 0], train_labels)\n",
    "# ipyplot.plot_images(test_imgs[..., 0])"
   ]
  },
  {
   "cell_type": "code",
   "execution_count": 10,
   "metadata": {},
   "outputs": [],
   "source": [
    "num_classes = 11\n",
    "y_train = keras.utils.to_categorical(train_labels_augmented, num_classes)"
   ]
  },
  {
   "cell_type": "code",
   "execution_count": 11,
   "metadata": {},
   "outputs": [],
   "source": [
    "val_ratio = 0.1\n",
    "train_indices, val_indices = train_test_split(\n",
    "    np.arange(len(train_imgs_augmented)), test_size=val_ratio,\n",
    "    random_state=42, stratify=train_labels_augmented)"
   ]
  },
  {
   "cell_type": "markdown",
   "metadata": {},
   "source": [
    "# MODEL"
   ]
  },
  {
   "cell_type": "code",
   "execution_count": 12,
   "metadata": {},
   "outputs": [],
   "source": [
    "def get_model(num_classes, initial_filters=32, verbose=False):\n",
    "    model = keras.Sequential(\n",
    "        [\n",
    "            keras.Input(shape=train_imgs.shape[1:]),\n",
    "            layers.Conv2D(initial_filters, kernel_size=(3, 3), activation=\"relu\"),\n",
    "            layers.MaxPooling2D(pool_size=(2, 2)),\n",
    "            layers.Conv2D(initial_filters*2, kernel_size=(3, 3), activation=\"relu\"),\n",
    "            layers.MaxPooling2D(pool_size=(2, 2)),\n",
    "            layers.Flatten(),\n",
    "            layers.Dropout(0.5),\n",
    "            layers.Dense(num_classes, activation=\"softmax\"),\n",
    "        ]\n",
    "    )\n",
    "\n",
    "    if verbose:\n",
    "        model.summary()\n",
    "        \n",
    "    return model"
   ]
  },
  {
   "cell_type": "code",
   "execution_count": 13,
   "metadata": {},
   "outputs": [
    {
     "name": "stdout",
     "output_type": "stream",
     "text": [
      "Metal device set to: Apple M1\n",
      "\n",
      "systemMemory: 16.00 GB\n",
      "maxCacheSize: 5.33 GB\n",
      "\n"
     ]
    },
    {
     "name": "stderr",
     "output_type": "stream",
     "text": [
      "2023-09-09 16:36:37.318921: I tensorflow/core/common_runtime/pluggable_device/pluggable_device_factory.cc:305] Could not identify NUMA node of platform GPU ID 0, defaulting to 0. Your kernel may not have been built with NUMA support.\n",
      "2023-09-09 16:36:37.319094: I tensorflow/core/common_runtime/pluggable_device/pluggable_device_factory.cc:271] Created TensorFlow device (/job:localhost/replica:0/task:0/device:GPU:0 with 0 MB memory) -> physical PluggableDevice (device: 0, name: METAL, pci bus id: <undefined>)\n"
     ]
    }
   ],
   "source": [
    "model = get_model(num_classes, verbose=False)\n",
    "# model = get_model(11, verbose=True)\n",
    "# keras.utils.plot_model(model, show_shapes=True)"
   ]
  },
  {
   "cell_type": "markdown",
   "metadata": {},
   "source": [
    "# TRAIN"
   ]
  },
  {
   "cell_type": "code",
   "execution_count": 15,
   "metadata": {},
   "outputs": [
    {
     "name": "stdout",
     "output_type": "stream",
     "text": [
      "Epoch 1/100\n"
     ]
    },
    {
     "name": "stderr",
     "output_type": "stream",
     "text": [
      "2023-09-09 16:36:43.786232: W tensorflow/core/platform/profile_utils/cpu_utils.cc:128] Failed to get CPU frequency: 0 Hz\n",
      "2023-09-09 16:36:43.970565: I tensorflow/core/grappler/optimizers/custom_graph_optimizer_registry.cc:113] Plugin optimizer for device_type GPU is enabled.\n"
     ]
    },
    {
     "name": "stdout",
     "output_type": "stream",
     "text": [
      "507/507 [==============================] - ETA: 0s - loss: 0.3262 - accuracy: 0.8991"
     ]
    },
    {
     "name": "stderr",
     "output_type": "stream",
     "text": [
      "2023-09-09 16:36:53.408074: I tensorflow/core/grappler/optimizers/custom_graph_optimizer_registry.cc:113] Plugin optimizer for device_type GPU is enabled.\n"
     ]
    },
    {
     "name": "stdout",
     "output_type": "stream",
     "text": [
      "507/507 [==============================] - 10s 19ms/step - loss: 0.3262 - accuracy: 0.8991 - val_loss: 0.0965 - val_accuracy: 0.9732 - lr: 0.0010\n",
      "Epoch 2/100\n",
      "507/507 [==============================] - 9s 19ms/step - loss: 0.0983 - accuracy: 0.9711 - val_loss: 0.0639 - val_accuracy: 0.9815 - lr: 0.0010\n",
      "Epoch 3/100\n",
      "507/507 [==============================] - 9s 18ms/step - loss: 0.0765 - accuracy: 0.9776 - val_loss: 0.0539 - val_accuracy: 0.9853 - lr: 0.0010\n",
      "Epoch 4/100\n",
      "507/507 [==============================] - 9s 18ms/step - loss: 0.0637 - accuracy: 0.9814 - val_loss: 0.0544 - val_accuracy: 0.9850 - lr: 0.0010\n",
      "Epoch 5/100\n",
      "507/507 [==============================] - 9s 18ms/step - loss: 0.0534 - accuracy: 0.9838 - val_loss: 0.0457 - val_accuracy: 0.9865 - lr: 0.0010\n",
      "Epoch 6/100\n",
      "507/507 [==============================] - 9s 18ms/step - loss: 0.0498 - accuracy: 0.9858 - val_loss: 0.0414 - val_accuracy: 0.9878 - lr: 0.0010\n",
      "Epoch 7/100\n",
      "507/507 [==============================] - 9s 18ms/step - loss: 0.0459 - accuracy: 0.9868 - val_loss: 0.0407 - val_accuracy: 0.9883 - lr: 0.0010\n",
      "Epoch 8/100\n",
      "507/507 [==============================] - 10s 19ms/step - loss: 0.0414 - accuracy: 0.9878 - val_loss: 0.0347 - val_accuracy: 0.9901 - lr: 0.0010\n",
      "Epoch 9/100\n",
      "507/507 [==============================] - 10s 19ms/step - loss: 0.0389 - accuracy: 0.9884 - val_loss: 0.0364 - val_accuracy: 0.9903 - lr: 0.0010\n",
      "Epoch 10/100\n",
      "507/507 [==============================] - 10s 19ms/step - loss: 0.0364 - accuracy: 0.9891 - val_loss: 0.0364 - val_accuracy: 0.9896 - lr: 0.0010\n",
      "Epoch 11/100\n",
      "507/507 [==============================] - 10s 19ms/step - loss: 0.0336 - accuracy: 0.9894 - val_loss: 0.0323 - val_accuracy: 0.9906 - lr: 0.0010\n",
      "Epoch 12/100\n",
      "507/507 [==============================] - 10s 19ms/step - loss: 0.0326 - accuracy: 0.9900 - val_loss: 0.0314 - val_accuracy: 0.9908 - lr: 0.0010\n",
      "Epoch 13/100\n",
      "507/507 [==============================] - 10s 19ms/step - loss: 0.0297 - accuracy: 0.9908 - val_loss: 0.0312 - val_accuracy: 0.9907 - lr: 0.0010\n",
      "Epoch 14/100\n",
      "507/507 [==============================] - 10s 19ms/step - loss: 0.0283 - accuracy: 0.9912 - val_loss: 0.0290 - val_accuracy: 0.9912 - lr: 0.0010\n",
      "Epoch 15/100\n",
      "507/507 [==============================] - 10s 19ms/step - loss: 0.0269 - accuracy: 0.9917 - val_loss: 0.0284 - val_accuracy: 0.9921 - lr: 0.0010\n",
      "Epoch 16/100\n",
      "507/507 [==============================] - 10s 19ms/step - loss: 0.0245 - accuracy: 0.9922 - val_loss: 0.0323 - val_accuracy: 0.9904 - lr: 0.0010\n",
      "Epoch 17/100\n",
      "507/507 [==============================] - 10s 19ms/step - loss: 0.0250 - accuracy: 0.9919 - val_loss: 0.0293 - val_accuracy: 0.9922 - lr: 0.0010\n",
      "Epoch 18/100\n",
      "507/507 [==============================] - 10s 19ms/step - loss: 0.0242 - accuracy: 0.9923 - val_loss: 0.0268 - val_accuracy: 0.9919 - lr: 0.0010\n",
      "Epoch 19/100\n",
      "507/507 [==============================] - 10s 19ms/step - loss: 0.0222 - accuracy: 0.9927 - val_loss: 0.0286 - val_accuracy: 0.9915 - lr: 0.0010\n",
      "Epoch 20/100\n",
      "507/507 [==============================] - 10s 19ms/step - loss: 0.0214 - accuracy: 0.9930 - val_loss: 0.0264 - val_accuracy: 0.9922 - lr: 0.0010\n",
      "Epoch 21/100\n",
      "507/507 [==============================] - 10s 19ms/step - loss: 0.0217 - accuracy: 0.9927 - val_loss: 0.0249 - val_accuracy: 0.9935 - lr: 0.0010\n",
      "Epoch 22/100\n",
      "507/507 [==============================] - 10s 19ms/step - loss: 0.0202 - accuracy: 0.9937 - val_loss: 0.0276 - val_accuracy: 0.9921 - lr: 0.0010\n",
      "Epoch 23/100\n",
      "507/507 [==============================] - 10s 19ms/step - loss: 0.0193 - accuracy: 0.9936 - val_loss: 0.0279 - val_accuracy: 0.9928 - lr: 0.0010\n",
      "Epoch 24/100\n",
      "506/507 [============================>.] - ETA: 0s - loss: 0.0187 - accuracy: 0.9942\n",
      "Epoch 24: ReduceLROnPlateau reducing learning rate to 0.0005000000237487257.\n",
      "507/507 [==============================] - 10s 19ms/step - loss: 0.0187 - accuracy: 0.9942 - val_loss: 0.0257 - val_accuracy: 0.9919 - lr: 0.0010\n",
      "Epoch 25/100\n",
      "507/507 [==============================] - 10s 19ms/step - loss: 0.0148 - accuracy: 0.9953 - val_loss: 0.0256 - val_accuracy: 0.9936 - lr: 5.0000e-04\n",
      "Epoch 26/100\n",
      "507/507 [==============================] - 10s 19ms/step - loss: 0.0146 - accuracy: 0.9951 - val_loss: 0.0247 - val_accuracy: 0.9929 - lr: 5.0000e-04\n",
      "Epoch 27/100\n",
      "507/507 [==============================] - 10s 19ms/step - loss: 0.0145 - accuracy: 0.9952 - val_loss: 0.0245 - val_accuracy: 0.9932 - lr: 5.0000e-04\n",
      "Epoch 28/100\n",
      "507/507 [==============================] - 10s 19ms/step - loss: 0.0140 - accuracy: 0.9956 - val_loss: 0.0245 - val_accuracy: 0.9936 - lr: 5.0000e-04\n",
      "Epoch 29/100\n",
      "507/507 [==============================] - 10s 19ms/step - loss: 0.0137 - accuracy: 0.9953 - val_loss: 0.0252 - val_accuracy: 0.9937 - lr: 5.0000e-04\n",
      "Epoch 30/100\n",
      "507/507 [==============================] - 10s 19ms/step - loss: 0.0128 - accuracy: 0.9960 - val_loss: 0.0242 - val_accuracy: 0.9929 - lr: 5.0000e-04\n",
      "Epoch 31/100\n",
      "507/507 [==============================] - 10s 19ms/step - loss: 0.0131 - accuracy: 0.9956 - val_loss: 0.0243 - val_accuracy: 0.9932 - lr: 5.0000e-04\n",
      "Epoch 32/100\n",
      "507/507 [==============================] - 9s 18ms/step - loss: 0.0125 - accuracy: 0.9958 - val_loss: 0.0232 - val_accuracy: 0.9925 - lr: 5.0000e-04\n",
      "Epoch 33/100\n",
      "507/507 [==============================] - 9s 18ms/step - loss: 0.0121 - accuracy: 0.9960 - val_loss: 0.0235 - val_accuracy: 0.9933 - lr: 5.0000e-04\n",
      "Epoch 34/100\n",
      "507/507 [==============================] - 9s 18ms/step - loss: 0.0116 - accuracy: 0.9962 - val_loss: 0.0227 - val_accuracy: 0.9932 - lr: 5.0000e-04\n",
      "Epoch 35/100\n",
      "507/507 [==============================] - 9s 18ms/step - loss: 0.0122 - accuracy: 0.9958 - val_loss: 0.0232 - val_accuracy: 0.9936 - lr: 5.0000e-04\n",
      "Epoch 36/100\n",
      "507/507 [==============================] - 9s 18ms/step - loss: 0.0116 - accuracy: 0.9964 - val_loss: 0.0252 - val_accuracy: 0.9932 - lr: 5.0000e-04\n",
      "Epoch 37/100\n",
      "507/507 [==============================] - ETA: 0s - loss: 0.0109 - accuracy: 0.9961\n",
      "Epoch 37: ReduceLROnPlateau reducing learning rate to 0.0002500000118743628.\n",
      "507/507 [==============================] - 9s 19ms/step - loss: 0.0109 - accuracy: 0.9961 - val_loss: 0.0240 - val_accuracy: 0.9937 - lr: 5.0000e-04\n",
      "Epoch 38/100\n",
      "507/507 [==============================] - 10s 19ms/step - loss: 0.0103 - accuracy: 0.9967 - val_loss: 0.0234 - val_accuracy: 0.9940 - lr: 2.5000e-04\n",
      "Epoch 39/100\n",
      "507/507 [==============================] - 10s 19ms/step - loss: 0.0094 - accuracy: 0.9968 - val_loss: 0.0228 - val_accuracy: 0.9940 - lr: 2.5000e-04\n",
      "Epoch 40/100\n",
      "506/507 [============================>.] - ETA: 0s - loss: 0.0088 - accuracy: 0.9970\n",
      "Epoch 40: ReduceLROnPlateau reducing learning rate to 0.0001250000059371814.\n",
      "507/507 [==============================] - 10s 19ms/step - loss: 0.0088 - accuracy: 0.9970 - val_loss: 0.0231 - val_accuracy: 0.9935 - lr: 2.5000e-04\n",
      "Epoch 41/100\n",
      "507/507 [==============================] - 10s 19ms/step - loss: 0.0093 - accuracy: 0.9972 - val_loss: 0.0224 - val_accuracy: 0.9939 - lr: 1.2500e-04\n",
      "Epoch 42/100\n",
      "507/507 [==============================] - 9s 19ms/step - loss: 0.0087 - accuracy: 0.9972 - val_loss: 0.0231 - val_accuracy: 0.9943 - lr: 1.2500e-04\n",
      "Epoch 43/100\n",
      "507/507 [==============================] - 9s 18ms/step - loss: 0.0084 - accuracy: 0.9972 - val_loss: 0.0224 - val_accuracy: 0.9942 - lr: 1.2500e-04\n",
      "Epoch 44/100\n",
      "505/507 [============================>.] - ETA: 0s - loss: 0.0080 - accuracy: 0.9976\n",
      "Epoch 44: ReduceLROnPlateau reducing learning rate to 6.25000029685907e-05.\n",
      "507/507 [==============================] - 9s 18ms/step - loss: 0.0080 - accuracy: 0.9976 - val_loss: 0.0232 - val_accuracy: 0.9940 - lr: 1.2500e-04\n",
      "Epoch 45/100\n",
      "507/507 [==============================] - 9s 18ms/step - loss: 0.0079 - accuracy: 0.9975 - val_loss: 0.0231 - val_accuracy: 0.9939 - lr: 6.2500e-05\n",
      "Epoch 46/100\n",
      "507/507 [==============================] - 9s 18ms/step - loss: 0.0076 - accuracy: 0.9975 - val_loss: 0.0230 - val_accuracy: 0.9943 - lr: 6.2500e-05\n",
      "Epoch 47/100\n",
      "506/507 [============================>.] - ETA: 0s - loss: 0.0086 - accuracy: 0.9971\n",
      "Epoch 47: ReduceLROnPlateau reducing learning rate to 3.125000148429535e-05.\n",
      "507/507 [==============================] - 9s 18ms/step - loss: 0.0086 - accuracy: 0.9971 - val_loss: 0.0233 - val_accuracy: 0.9940 - lr: 6.2500e-05\n",
      "Epoch 48/100\n",
      "507/507 [==============================] - 9s 18ms/step - loss: 0.0081 - accuracy: 0.9973 - val_loss: 0.0234 - val_accuracy: 0.9940 - lr: 3.1250e-05\n",
      "Epoch 49/100\n",
      "507/507 [==============================] - 9s 18ms/step - loss: 0.0078 - accuracy: 0.9976 - val_loss: 0.0232 - val_accuracy: 0.9937 - lr: 3.1250e-05\n",
      "Epoch 50/100\n",
      "504/507 [============================>.] - ETA: 0s - loss: 0.0078 - accuracy: 0.9976\n",
      "Epoch 50: ReduceLROnPlateau reducing learning rate to 1.5625000742147677e-05.\n",
      "507/507 [==============================] - 9s 18ms/step - loss: 0.0077 - accuracy: 0.9976 - val_loss: 0.0236 - val_accuracy: 0.9943 - lr: 3.1250e-05\n",
      "Epoch 51/100\n",
      "507/507 [==============================] - 9s 18ms/step - loss: 0.0071 - accuracy: 0.9976 - val_loss: 0.0233 - val_accuracy: 0.9939 - lr: 1.5625e-05\n",
      "Epoch 52/100\n",
      "507/507 [==============================] - 9s 18ms/step - loss: 0.0071 - accuracy: 0.9977 - val_loss: 0.0232 - val_accuracy: 0.9940 - lr: 1.5625e-05\n",
      "Epoch 53/100\n",
      "504/507 [============================>.] - ETA: 0s - loss: 0.0072 - accuracy: 0.9978\n",
      "Epoch 53: ReduceLROnPlateau reducing learning rate to 7.812500371073838e-06.\n",
      "507/507 [==============================] - 9s 18ms/step - loss: 0.0072 - accuracy: 0.9978 - val_loss: 0.0231 - val_accuracy: 0.9940 - lr: 1.5625e-05\n",
      "Epoch 54/100\n",
      "507/507 [==============================] - 9s 18ms/step - loss: 0.0079 - accuracy: 0.9975 - val_loss: 0.0232 - val_accuracy: 0.9940 - lr: 7.8125e-06\n",
      "Epoch 55/100\n",
      "507/507 [==============================] - 10s 19ms/step - loss: 0.0075 - accuracy: 0.9976 - val_loss: 0.0232 - val_accuracy: 0.9940 - lr: 7.8125e-06\n",
      "Epoch 56/100\n",
      "504/507 [============================>.] - ETA: 0s - loss: 0.0070 - accuracy: 0.9977\n",
      "Epoch 56: ReduceLROnPlateau reducing learning rate to 3.906250185536919e-06.\n",
      "507/507 [==============================] - 10s 19ms/step - loss: 0.0070 - accuracy: 0.9977 - val_loss: 0.0233 - val_accuracy: 0.9940 - lr: 7.8125e-06\n",
      "Epoch 57/100\n",
      "507/507 [==============================] - 10s 19ms/step - loss: 0.0075 - accuracy: 0.9976 - val_loss: 0.0233 - val_accuracy: 0.9940 - lr: 3.9063e-06\n",
      "Epoch 58/100\n",
      "507/507 [==============================] - 10s 19ms/step - loss: 0.0072 - accuracy: 0.9977 - val_loss: 0.0232 - val_accuracy: 0.9940 - lr: 3.9063e-06\n",
      "Epoch 59/100\n",
      "506/507 [============================>.] - ETA: 0s - loss: 0.0071 - accuracy: 0.9978\n",
      "Epoch 59: ReduceLROnPlateau reducing learning rate to 1.9531250927684596e-06.\n",
      "507/507 [==============================] - 10s 19ms/step - loss: 0.0071 - accuracy: 0.9978 - val_loss: 0.0233 - val_accuracy: 0.9940 - lr: 3.9063e-06\n",
      "Epoch 60/100\n",
      "507/507 [==============================] - 10s 19ms/step - loss: 0.0073 - accuracy: 0.9976 - val_loss: 0.0233 - val_accuracy: 0.9940 - lr: 1.9531e-06\n",
      "Epoch 61/100\n",
      "507/507 [==============================] - 10s 19ms/step - loss: 0.0070 - accuracy: 0.9977 - val_loss: 0.0233 - val_accuracy: 0.9940 - lr: 1.9531e-06\n",
      "Epoch 62/100\n",
      "506/507 [============================>.] - ETA: 0s - loss: 0.0074 - accuracy: 0.9976\n",
      "Epoch 62: ReduceLROnPlateau reducing learning rate to 9.765625463842298e-07.\n",
      "507/507 [==============================] - 10s 19ms/step - loss: 0.0074 - accuracy: 0.9976 - val_loss: 0.0233 - val_accuracy: 0.9940 - lr: 1.9531e-06\n",
      "Epoch 62: early stopping\n"
     ]
    }
   ],
   "source": [
    "epochs = 100\n",
    "batch_size = 128\n",
    "\n",
    "model = get_model(num_classes)\n",
    "model.compile(loss=\"categorical_crossentropy\", optimizer=\"adam\", metrics=[\"accuracy\"])\n",
    "\n",
    "callbacks=[\n",
    "    keras.callbacks.EarlyStopping(patience=20, monitor='val_accuracy', verbose=True),\n",
    "    keras.callbacks.ReduceLROnPlateau(patience=3, factor=0.5, monitor='val_loss', verbose=True)\n",
    "]\n",
    "\n",
    "ret = model.fit(train_imgs_augmented[train_indices], y_train[train_indices],\n",
    "                validation_data=(train_imgs_augmented[val_indices],y_train[val_indices]),\n",
    "                batch_size=batch_size, epochs=epochs,\n",
    "                callbacks=callbacks, verbose=1);"
   ]
  },
  {
   "cell_type": "code",
   "execution_count": 14,
   "metadata": {},
   "outputs": [],
   "source": [
    "def plot_train_evolution(ret):\n",
    "    print()\n",
    "    for key in ['accuracy', 'val_accuracy']:\n",
    "        print(f'best {key}: {np.max(ret.history[key]):.3f}')\n",
    "        values = 1-np.array(ret.history[key])\n",
    "        label = key.replace('accuracy', 'error') + f' min value {np.min(values):.1e}'\n",
    "        plt.plot(values, label=label)\n",
    "    plt.yscale('log')\n",
    "    plt.title(f'Max val accuracy {np.max(ret.history[\"val_accuracy\"]):.3f}')\n",
    "    plt.legend(loc=0);\n",
    "    plt.xlabel('Epoch')\n",
    "    plt.ylabel('Error')\n",
    "    plt.grid(which='both')"
   ]
  },
  {
   "cell_type": "code",
   "execution_count": 16,
   "metadata": {},
   "outputs": [
    {
     "name": "stdout",
     "output_type": "stream",
     "text": [
      "\n",
      "best accuracy: 0.998\n",
      "best val_accuracy: 0.994\n"
     ]
    },
    {
     "data": {
      "image/png": "[encoded data removed]",
      "text/plain": [
       "<Figure size 640x480 with 1 Axes>"
      ]
     },
     "metadata": {},
     "output_type": "display_data"
    }
   ],
   "source": [
    "plot_train_evolution(ret)"
   ]
  },
  {
   "cell_type": "code",
   "execution_count": 17,
   "metadata": {},
   "outputs": [
    {
     "name": "stdout",
     "output_type": "stream",
     "text": [
      " 31/157 [====>.........................] - ETA: 0s"
     ]
    },
    {
     "name": "stderr",
     "output_type": "stream",
     "text": [
      "2023-09-09 16:46:46.639514: I tensorflow/core/grappler/optimizers/custom_graph_optimizer_registry.cc:113] Plugin optimizer for device_type GPU is enabled.\n"
     ]
    },
    {
     "name": "stdout",
     "output_type": "stream",
     "text": [
      "157/157 [==============================] - 1s 6ms/step\n"
     ]
    }
   ],
   "source": [
    "test_preds = model.predict(test_imgs, batch_size=128, verbose=1)"
   ]
  },
  {
   "cell_type": "markdown",
   "metadata": {},
   "source": [
    "# VISUALIZE"
   ]
  },
  {
   "cell_type": "code",
   "execution_count": null,
   "metadata": {},
   "outputs": [],
   "source": [
    "def visualize_test_img_and_pred(idx):\n",
    "    plt.subplot(121)\n",
    "    plt.imshow(test_imgs[idx])\n",
    "    plt.subplot(122)\n",
    "    #plt.plot(test_preds[idx])\n",
    "    plt.bar(np.arange(10), test_preds[idx])\n",
    "    plt.title(f'Max pred {np.max(test_preds[idx]):.2f}')\n",
    "    plt.ylim(0, 1)\n",
    "    plt.xticks(np.arange(10))"
   ]
  },
  {
   "cell_type": "code",
   "execution_count": null,
   "metadata": {},
   "outputs": [],
   "source": [
    "# for idx in range(10):\n",
    "#     visualize_test_img_and_pred(idx)\n",
    "#     plt.show()"
   ]
  },
  {
   "cell_type": "code",
   "execution_count": null,
   "metadata": {},
   "outputs": [
    {
     "data": {
      "image/png": "[encoded data removed]",
      "text/plain": [
       "<Figure size 3000x700 with 2 Axes>"
      ]
     },
     "metadata": {},
     "output_type": "display_data"
    }
   ],
   "source": [
    "plt.figure(figsize=(30, 7))\n",
    "max_test_preds = np.max(test_preds, axis=1)\n",
    "plt.subplot(211)\n",
    "plt.title('Distribution of max pred')\n",
    "plt.hist(max_test_preds, bins=50);\n",
    "plt.subplot(212)\n",
    "plt.title('Cumulative Distribution of max pred')\n",
    "plt.hist(max_test_preds, bins=100, cumulative=1, density=True);\n",
    "plt.grid()"
   ]
  },
  {
   "cell_type": "markdown",
   "metadata": {},
   "source": [
    "# SUBMIT"
   ]
  },
  {
   "cell_type": "code",
   "execution_count": 26,
   "metadata": {},
   "outputs": [
    {
     "data": {
      "text/plain": [
       "0      1157\n",
       "1      1009\n",
       "2      1041\n",
       "3       935\n",
       "4       967\n",
       "5       980\n",
       "6       982\n",
       "7       895\n",
       "8      1000\n",
       "9       870\n",
       "10    10202\n",
       "dtype: int64"
      ]
     },
     "metadata": {},
     "output_type": "display_data"
    }
   ],
   "source": [
    "test_labels = np.argmax(test_preds, axis=1)\n",
    "max_test_preds = np.max(test_preds, axis=1)\n",
    "test_labels[max_test_preds < np.median(max_test_preds)] = 10\n",
    "nPrediccionesPorClase = np.unique(test_labels, return_counts=True)\n",
    "display(pd.Series(nPrediccionesPorClase[1]))"
   ]
  },
  {
   "cell_type": "code",
   "execution_count": 30,
   "metadata": {},
   "outputs": [
    {
     "data": {
      "text/plain": [
       "50.91"
      ]
     },
     "execution_count": 30,
     "metadata": {},
     "output_type": "execute_result"
    }
   ],
   "source": [
    "# porcentaje de no numeros predecido\n",
    "np.round(nPrediccionesPorClase[1][10]*100/test_labels.shape[0],2)"
   ]
  },
  {
   "cell_type": "code",
   "execution_count": 31,
   "metadata": {},
   "outputs": [
    {
     "data": {
      "text/html": [
       "<div>\n",
       "<style scoped>\n",
       "    .dataframe tbody tr th:only-of-type {\n",
       "        vertical-align: middle;\n",
       "    }\n",
       "\n",
       "    .dataframe tbody tr th {\n",
       "        vertical-align: top;\n",
       "    }\n",
       "\n",
       "    .dataframe thead th {\n",
       "        text-align: right;\n",
       "    }\n",
       "</style>\n",
       "<table border=\"1\" class=\"dataframe\">\n",
       "  <thead>\n",
       "    <tr style=\"text-align: right;\">\n",
       "      <th></th>\n",
       "      <th>name</th>\n",
       "      <th>label</th>\n",
       "    </tr>\n",
       "  </thead>\n",
       "  <tbody>\n",
       "    <tr>\n",
       "      <th>0</th>\n",
       "      <td>000245159744cee166bd566168033e37</td>\n",
       "      <td>10</td>\n",
       "    </tr>\n",
       "    <tr>\n",
       "      <th>1</th>\n",
       "      <td>0002fa2768dff946a9440ba527b7094c</td>\n",
       "      <td>0</td>\n",
       "    </tr>\n",
       "    <tr>\n",
       "      <th>2</th>\n",
       "      <td>000e6e1550101554e232afc958ad07ca</td>\n",
       "      <td>6</td>\n",
       "    </tr>\n",
       "    <tr>\n",
       "      <th>3</th>\n",
       "      <td>0015f3f045a3d501fd0015a3cdd8a918</td>\n",
       "      <td>10</td>\n",
       "    </tr>\n",
       "    <tr>\n",
       "      <th>4</th>\n",
       "      <td>0018f902cf6145276b7703b35f77f6e4</td>\n",
       "      <td>10</td>\n",
       "    </tr>\n",
       "  </tbody>\n",
       "</table>\n",
       "</div>"
      ],
      "text/plain": [
       "                               name  label\n",
       "0  000245159744cee166bd566168033e37     10\n",
       "1  0002fa2768dff946a9440ba527b7094c      0\n",
       "2  000e6e1550101554e232afc958ad07ca      6\n",
       "3  0015f3f045a3d501fd0015a3cdd8a918     10\n",
       "4  0018f902cf6145276b7703b35f77f6e4     10"
      ]
     },
     "execution_count": 31,
     "metadata": {},
     "output_type": "execute_result"
    }
   ],
   "source": [
    "submission = pd.read_csv(f'{DATASET_FOLDER}/sample_submission.csv')\n",
    "assert (submission.name == test_names).all()\n",
    "submission['label'] = test_labels\n",
    "submission.head()"
   ]
  },
  {
   "cell_type": "code",
   "execution_count": 32,
   "metadata": {},
   "outputs": [],
   "source": [
    "submission.to_csv('submission.csv', index=False)"
   ]
  }
 ],
 "metadata": {
  "kernelspec": {
   "display_name": "base",
   "language": "python",
   "name": "python3"
  },
  "language_info": {
   "codemirror_mode": {
    "name": "ipython",
    "version": 3
   },
   "file_extension": ".py",
   "mimetype": "text/x-python",
   "name": "python",
   "nbconvert_exporter": "python",
   "pygments_lexer": "ipython3",
   "version": "3.10.9"
  },
  "orig_nbformat": 4
 },
 "nbformat": 4,
 "nbformat_minor": 2
}
